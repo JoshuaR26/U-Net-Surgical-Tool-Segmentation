{
 "cells": [
  {
   "cell_type": "code",
   "execution_count": 7,
   "id": "fb78b21c-9a25-429f-90aa-1fec9934f7dd",
   "metadata": {},
   "outputs": [],
   "source": [
    "import os\n",
    "import cv2\n",
    "from glob import glob"
   ]
  },
  {
   "cell_type": "code",
   "execution_count": 24,
   "id": "d4c2cea3-b5c2-4797-bbd4-31967adf0fa8",
   "metadata": {},
   "outputs": [],
   "source": [
    "train_path = './train'\n",
    "frames = ['frames_3', 'frames_5', 'frames_2']\n",
    "labels = ['labels_3', 'labels_5', 'labels_2']"
   ]
  },
  {
   "cell_type": "code",
   "execution_count": 33,
   "id": "273540a1-82e5-4be6-9f9f-9d8c3fe7b092",
   "metadata": {},
   "outputs": [],
   "source": [
    "for frame in frames:\n",
    "    x = glob(os.path.join(train_path, frame, '*'))"
   ]
  }
 ],
 "metadata": {
  "kernelspec": {
   "display_name": "Python 3 (ipykernel)",
   "language": "python",
   "name": "python3"
  },
  "language_info": {
   "codemirror_mode": {
    "name": "ipython",
    "version": 3
   },
   "file_extension": ".py",
   "mimetype": "text/x-python",
   "name": "python",
   "nbconvert_exporter": "python",
   "pygments_lexer": "ipython3",
   "version": "3.10.10"
  }
 },
 "nbformat": 4,
 "nbformat_minor": 5
}
