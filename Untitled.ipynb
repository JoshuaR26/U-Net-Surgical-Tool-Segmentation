{
 "cells": [
  {
   "cell_type": "code",
   "execution_count": 5,
   "id": "000e68b5-09d4-4cde-8c6d-b25d12e3de33",
   "metadata": {},
   "outputs": [
    {
     "name": "stdout",
     "output_type": "stream",
     "text": [
      "No filename mismatches found.\n",
      "Processing complete.\n"
     ]
    }
   ],
   "source": [
    "import os\n",
    "\n",
    "# Path to the folder containing label 5 images\n",
    "label5_folder = \"./train/labels_3\"\n",
    "\n",
    "# Path to the folder containing frames\n",
    "frame_folder = \"./train/frames_3\"\n",
    "\n",
    "# Get the list of files in the label5 folder\n",
    "label5_files = os.listdir(label5_folder)\n",
    "\n",
    "# Get the list of files in the frames folder\n",
    "frame_files = os.listdir(frame_folder)\n",
    "\n",
    "# Convert the lists to sets for efficient comparison\n",
    "label5_set = set(label5_files)\n",
    "frame_set = set(frame_files)\n",
    "\n",
    "# Check for filename mismatches\n",
    "mismatched_files = label5_set.symmetric_difference(frame_set)\n",
    "\n",
    "# Print the mismatched filenames\n",
    "if mismatched_files:\n",
    "    print(\"Mismatched filenames:\")\n",
    "    for file in mismatched_files:\n",
    "        if file in label5_set and file not in frame_set:\n",
    "            print(f\"Filename {file} in label5 but not in frames.\")\n",
    "        elif file in frame_set and file not in label5_set:\n",
    "            print(f\"Filename {file} in frames but not in label5.\")\n",
    "else:\n",
    "    print(\"No filename mismatches found.\")\n",
    "\n",
    "print(\"Processing complete.\")"
   ]
  }
 ],
 "metadata": {
  "kernelspec": {
   "display_name": "Python 3 (ipykernel)",
   "language": "python",
   "name": "python3"
  },
  "language_info": {
   "codemirror_mode": {
    "name": "ipython",
    "version": 3
   },
   "file_extension": ".py",
   "mimetype": "text/x-python",
   "name": "python",
   "nbconvert_exporter": "python",
   "pygments_lexer": "ipython3",
   "version": "3.10.10"
  }
 },
 "nbformat": 4,
 "nbformat_minor": 5
}
