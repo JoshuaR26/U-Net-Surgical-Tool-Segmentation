{
 "cells": [
  {
   "cell_type": "code",
   "execution_count": 11,
   "metadata": {
    "id": "zG4fnNgBn_ka"
   },
   "outputs": [],
   "source": [
    "import cv2\n",
    "import numpy as np\n",
    "import os\n",
    "from glob import glob"
   ]
  },
  {
   "cell_type": "code",
   "execution_count": 12,
   "metadata": {
    "id": "aGMo3xbroThQ"
   },
   "outputs": [],
   "source": [
    "import cv2\n",
    "import os\n",
    "\n",
    "def is_pic_black(label_path, frame_path):\n",
    "    label = cv2.imread(label_path, 0)\n",
    "    if label is not None:  # Check if the image is loaded successfully\n",
    "        if 255 not in label:\n",
    "            os.remove(label_path)\n",
    "            os.remove(frame_path)\n",
    "    else:\n",
    "        print(f\"Unable to read image at path: {label_path}\")\n",
    "\n",
    "# Rest of your code...\n"
   ]
  },
  {
   "cell_type": "code",
   "execution_count": 3,
   "metadata": {
    "id": "9l4TMU00pWPe"
   },
   "outputs": [],
   "source": [
    "# # To delete duplicate files\n",
    "# def delete_empty_frames_and_labels ( frames_folder, labels_folder ):\n",
    "#   for index, frame in enumerate(os.listdir(labels_folder)):\n",
    "#     label_frame_path = os.path.join ( labels_folder, frame )\n",
    "#     if is_pic_black( label_frame_path);\n",
    "#       os.remove(os.path.join())"
   ]
  },
  {
   "cell_type": "code",
   "execution_count": 13,
   "metadata": {
    "scrolled": true
   },
   "outputs": [],
   "source": [
    "import os\n",
    "from glob import glob\n",
    "\n",
    "train_path = './train'\n",
    "frames = ['frames_3']\n",
    "labels = ['labels_3']\n",
    "\n",
    "for frame, label in zip(frames, labels):\n",
    "    frames_path = os.path.join(train_path, frame)\n",
    "    labels_path = os.path.join(train_path, label)\n",
    "    for img in os.listdir(frames_path):\n",
    "        frame_path = os.path.join(frames_path, img)\n",
    "        label_path = os.path.join(labels_path, img)\n",
    "        # print(label_path)\n",
    "        is_pic_black(label_path, frame_path)"
   ]
  }
 ],
 "metadata": {
  "colab": {
   "provenance": []
  },
  "kernelspec": {
   "display_name": "Python 3 (ipykernel)",
   "language": "python",
   "name": "python3"
  },
  "language_info": {
   "codemirror_mode": {
    "name": "ipython",
    "version": 3
   },
   "file_extension": ".py",
   "mimetype": "text/x-python",
   "name": "python",
   "nbconvert_exporter": "python",
   "pygments_lexer": "ipython3",
   "version": "3.10.10"
  }
 },
 "nbformat": 4,
 "nbformat_minor": 4
}
