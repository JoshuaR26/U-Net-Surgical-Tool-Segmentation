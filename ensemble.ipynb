{
 "cells": [
  {
   "cell_type": "code",
   "execution_count": 88,
   "metadata": {},
   "outputs": [],
   "source": [
    "import cv2\n",
    "import numpy as np"
   ]
  },
  {
   "cell_type": "code",
   "execution_count": 90,
   "metadata": {},
   "outputs": [],
   "source": [
    "import numpy as np \n",
    "import pandas as pd\n",
    "import matplotlib.pylab as plt\n",
    "import cv2\n",
    "import os\n",
    "import tensorflow as tf\n",
    "from glob import glob\n",
    "from tqdm import tqdm\n",
    "import time\n",
    "import tensorflow.keras.backend as K"
   ]
  },
  {
   "cell_type": "code",
   "execution_count": 111,
   "metadata": {},
   "outputs": [],
   "source": [
    "model_files = [\"/home/radhika/strykathon/unet/updt/unet_jacc_1.keras\",\n",
    "               \"/home/radhika/strykathon/unet/updt/unet_jacc_N2.h5\",\n",
    "               \"/home/radhika/strykathon/unet/updt/unet_jacc_N3.h5\",\n",
    "               \"/home/radhika/strykathon/unet/updt/unet_jacc_N5.h5\"]\n",
    "\n",
    "classes_and_colors = np.array([[0,0,0] ,[255,0,0], [25,155,187], \n",
    "                      [125,255,0], [125,255,255], [175,15,123],\n",
    "                      [141,255,12] ])"
   ]
  },
  {
   "cell_type": "code",
   "execution_count": 112,
   "metadata": {},
   "outputs": [],
   "source": [
    "height = 1024//4\n",
    "width = 1280//4\n",
    "\n",
    "label = 2\n",
    "img_path = '/home/radhika/strykathon/unet/dataset/train/frames/frame000_seq_1.png'\n",
    "label_path = '/home/radhika/strykathon/unet/dataset/train/labels/frame000_seq_1.png'\n",
    "train_path = '/home/radhika/strykathon/unet/dataset/train'\n",
    "model_path = os.path.join('/home/radhika/strykathon/unet/model', f'unet_jacc_{label}.keras')\n",
    "# log_path = os.path.join('./log/', f'log_{label}.csv')\n",
    "# save_path = './save/'"
   ]
  },
  {
   "cell_type": "code",
   "execution_count": 113,
   "metadata": {},
   "outputs": [],
   "source": [
    "def create_dir(path):\n",
    "    if not os.path.exists(path):\n",
    "        os.makedirs(path)"
   ]
  },
  {
   "cell_type": "code",
   "execution_count": 94,
   "metadata": {},
   "outputs": [],
   "source": [
    "def jaccard_distance(y_true, y_pred, smooth=100):\n",
    "    intersection = K.sum(K.abs(y_true * y_pred), axis=-1)\n",
    "    sum_ = K.sum(K.abs(y_true) + K.abs(y_pred), axis=-1)\n",
    "    jac = (intersection + smooth) / (sum_ - intersection + smooth)\n",
    "    return (1 - jac) * smooth"
   ]
  },
  {
   "cell_type": "code",
   "execution_count": 103,
   "metadata": {},
   "outputs": [],
   "source": [
    "def dice_loss(y_true, y_pred, smooth=1):\n",
    "    intersection = K.sum(y_true * y_pred)\n",
    "    sum_ = K.sum(y_true) + K.sum(y_pred)\n",
    "    dice = (2. * intersection + smooth) / (sum_ + smooth)\n",
    "    return 1 - dice"
   ]
  },
  {
   "cell_type": "code",
   "execution_count": 116,
   "metadata": {},
   "outputs": [],
   "source": [
    "def load_model(model_path : str, jacc = 0):\n",
    "    if jacc == 0:\n",
    "        return tf.keras.models.load_model(model_path, custom_objects={'jaccard_distance': jaccard_distance})\n",
    "    else:\n",
    "        return tf.keras.models.load_model(model_path, custom_objects={'dice_loss': dice_loss})\n"
   ]
  },
  {
   "cell_type": "code",
   "execution_count": 118,
   "metadata": {},
   "outputs": [],
   "source": [
    "def change_color_of_binary_mask(image : list, class_id : int):\n",
    "    #image = np.squeeze(image,axis=-1)\n",
    "    return np.array([ [ classes_and_colors[class_id] if pixel == 255 \\\n",
    "            else classes_and_colors[0] for pixel in row ] for row in image ])"
   ]
  },
  {
   "cell_type": "code",
   "execution_count": 119,
   "metadata": {},
   "outputs": [
    {
     "name": "stdout",
     "output_type": "stream",
     "text": [
      "(1024, 1280)\n"
     ]
    },
    {
     "data": {
      "text/plain": [
       "<matplotlib.image.AxesImage at 0x7f9fd69fa700>"
      ]
     },
     "execution_count": 119,
     "metadata": {},
     "output_type": "execute_result"
    },
    {
     "data": {
      "image/png": "[encoded data removed]",
      "text/plain": [
       "<Figure size 640x480 with 1 Axes>"
      ]
     },
     "metadata": {},
     "output_type": "display_data"
    }
   ],
   "source": [
    "image_path = r\"/home/radhika/strykathon/unet/dataset/train/labels1/frame000_seq_1.png\"\n",
    "image = cv2.imread(image_path,0)\n",
    "print ( image.shape )\n",
    "img = change_color_of_binary_mask(image,1)\n",
    "plt.imshow(img)"
   ]
  },
  {
   "cell_type": "code",
   "execution_count": 120,
   "metadata": {},
   "outputs": [],
   "source": [
    "def get_class_wise_predicted_mask ( x , class_id, jacc ) :\n",
    "    name = x.split('/')[-1]\n",
    "    \n",
    "    x = cv2.imread ( x , cv2.IMREAD_COLOR )\n",
    "    x = cv2.resize ( x , ( width , height ) )\n",
    "    x = x / 255.0\n",
    "    x = np.expand_dims ( x , axis = 0 )\n",
    "    \n",
    "    model = load_model(model_files[class_id-1],jacc)\n",
    "    print(model_files[class_id-1])\n",
    "\n",
    "    p = model.predict(x)[0]\n",
    "    \n",
    "    p = p > 0.5\n",
    "    p = p * 255\n",
    "\n",
    "    p = np.squeeze(p,axis=-1)\n",
    "\n",
    "    colored_mask = change_color_of_binary_mask( p ,class_id)\n",
    "    \n",
    "    return colored_mask.astype(np.uint8)"
   ]
  },
  {
   "cell_type": "code",
   "execution_count": 121,
   "metadata": {},
   "outputs": [
    {
     "name": "stdout",
     "output_type": "stream",
     "text": [
      "/home/radhika/strykathon/unet/updt/unet_jacc_1.keras\n",
      "1/1 [==============================] - 1s 601ms/step\n"
     ]
    }
   ],
   "source": [
    "predicted_mask = get_class_wise_predicted_mask ( r\"/home/radhika/strykathon/unet/dataset/train/frames/frame000_seq_1.png\",1, jacc = 0 )\n",
    "# plt.imshow(predicted_mask)\n",
    "#predicted_mask = predicted_mask.astype(np.uint8)\n",
    "cv2.imshow(\"random\",predicted_mask)\n",
    "cv2.waitKey(5000)\n",
    "cv2.destroyAllWindows()"
   ]
  },
  {
   "cell_type": "code",
   "execution_count": 127,
   "metadata": {},
   "outputs": [],
   "source": [
    "import numpy as np\n",
    "from functools import reduce\n",
    "\n",
    "def concatenate_masks( first_mask, second_mask ):\n",
    "    return [[ second_mask [ row_index ][ col_index ] or pixel \\\n",
    "            for col_index , pixel in enumerate ( row ) ]\\\n",
    "            for row_index , row in enumerate ( first_mask ) ]\n",
    "\n",
    "def concatenate_masks_rgb(first_mask, second_mask):\n",
    "    return [[\n",
    "        [second_mask[row_index][col_index][channel] or pixel[channel]\n",
    "         for channel in range(3)]  # Iterate over RGB channels\n",
    "        for col_index, pixel in enumerate(row)]\n",
    "        for row_index, row in enumerate(first_mask)]\n",
    "\n",
    "def concatenate_class_wise_masks ( image_path : str, num_of_classes = 6 ):\n",
    "    jacc_class = [ '',0,1,0,1 ]\n",
    "    image = cv2.imread ( image_path )\n",
    "    h, w, _ = image.shape\n",
    "\n",
    "    blank_canvas = np.zeros(( 256 , 320, 3 ))\n",
    "\n",
    "    predicted_masks = [ get_class_wise_predicted_mask( image_path, class_id, jacc = jacc_class[class_id] ) \\\n",
    "                       for class_id in range ( 1 , num_of_classes + 1 )]  \n",
    "    \n",
    "    predicted_masks.append(blank_canvas)\n",
    "\n",
    "    #plt.imshow(predicted_masks[0])\n",
    "    #plt.imshow(predicted_masks[1])\n",
    "                                \n",
    "    return np.array(reduce( concatenate_masks_rgb , predicted_masks ))\n"
   ]
  },
  {
   "cell_type": "code",
   "execution_count": 131,
   "metadata": {},
   "outputs": [
    {
     "name": "stdout",
     "output_type": "stream",
     "text": [
      "/home/radhika/strykathon/unet/updt/unet_jacc_1.keras\n",
      "1/1 [==============================] - 1s 606ms/step\n",
      "/home/radhika/strykathon/unet/updt/unet_jacc_N2.h5\n",
      "1/1 [==============================] - 1s 610ms/step\n",
      "/home/radhika/strykathon/unet/updt/unet_jacc_N3.h5\n",
      "1/1 [==============================] - 1s 591ms/step\n"
     ]
    }
   ],
   "source": [
    "import cv2\n",
    "image_path = \"/home/radhika/strykathon/unet/dataset/train/frames/frame000_seq_7.png\"\n",
    "final_img = concatenate_class_wise_masks ( image_path, 3 )\n",
    "cv2.imshow ( \"Image\", final_img )\n",
    "cv2.waitKey(5000)\n",
    "cv2.destroyAllWindows()"
   ]
  },
  {
   "cell_type": "code",
   "execution_count": 130,
   "metadata": {},
   "outputs": [
    {
     "data": {
      "text/plain": [
       "15"
      ]
     },
     "execution_count": 130,
     "metadata": {},
     "output_type": "execute_result"
    }
   ],
   "source": [
    "l = [1,2,3,4,5]\n",
    "def add ( x , y ): return x + y\n",
    "reduce(add,l)\n"
   ]
  },
  {
   "cell_type": "code",
   "execution_count": 57,
   "metadata": {},
   "outputs": [],
   "source": [
    "def change_color_of_binary_mask(image_path : str, class_id : int):\n",
    "    image = cv2.imread ( image_path , 0 )\n",
    "    return np.array([ [ classes_and_colors[class_id] if pixel == 255 \\\n",
    "            else classes_and_colors[0] for pixel in row ] for row in image ])"
   ]
  },
  {
   "cell_type": "code",
   "execution_count": 79,
   "metadata": {},
   "outputs": [],
   "source": [
    "\n",
    "def _change_color_of_binary_mask(image_path: str, class_id : int):\n",
    "    # Read the image as grayscale\n",
    "    mask = cv2.imread(image_path, cv2.IMREAD_GRAYSCALE)\n",
    "    mask_rgb = np.stack([mask] * 3, axis=-1)\n",
    "    \n",
    "    # Change the color of white pixels in the mask to the specified color\n",
    "    mask_rgb[mask == 255] = classes_and_colors[ class_id ]\n",
    "    \n",
    "    return mask_rgb"
   ]
  },
  {
   "cell_type": "code",
   "execution_count": 81,
   "metadata": {},
   "outputs": [],
   "source": [
    "import cv2\n",
    "import numpy as np\n",
    "from functools import reduce\n",
    "\n",
    "images = [\"/home/radhika/strykathon/unet/dataset/train/labels1/frame000_seq_7.png\",\n",
    "          \"/home/radhika/strykathon/unet/dataset/train/labels2/frame000_seq_7.png\"]\n",
    "\n",
    "masks = [ cv2.imread(image,0) for index,image in enumerate(images) ]\n",
    "\n",
    "masks = [ _change_color_of_binary_mask(image,index+1)\\\n",
    "          for index,image in enumerate(images) ]\n",
    "\n",
    "masks.append ( np.zeros((1024,1280,3)) )\n",
    "final_image = np.array(reduce ( concatenate_masks_rgb , masks ))\n",
    "\n",
    "cv2.imshow(\"dekh kaun\",final_image)\n",
    "cv2.waitKey(5000)\n",
    "cv2.destroyAllWindows()"
   ]
  },
  {
   "cell_type": "code",
   "execution_count": 13,
   "metadata": {},
   "outputs": [
    {
     "data": {
      "text/plain": [
       "[[11, 12, 13], [14, 2, 16]]"
      ]
     },
     "execution_count": 13,
     "metadata": {},
     "output_type": "execute_result"
    }
   ],
   "source": [
    "l1 = np.array([[0,0,0],[0,0,0]])\n",
    "l2 = np.array([[11,12,13],[14,2,16]])\n",
    "[[l2[row_index][col_index] or pixel for col_index,pixel in enumerate(row) ]\\\n",
    " for row_index,row in enumerate(l1)]"
   ]
  }
 ],
 "metadata": {
  "kernelspec": {
   "display_name": "Python 3",
   "language": "python",
   "name": "python3"
  },
  "language_info": {
   "codemirror_mode": {
    "name": "ipython",
    "version": 3
   },
   "file_extension": ".py",
   "mimetype": "text/x-python",
   "name": "python",
   "nbconvert_exporter": "python",
   "pygments_lexer": "ipython3",
   "version": "3.8.10"
  }
 },
 "nbformat": 4,
 "nbformat_minor": 2
}
