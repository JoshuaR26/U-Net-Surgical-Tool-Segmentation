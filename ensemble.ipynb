{
 "cells": [
  {
   "cell_type": "code",
   "execution_count": 1,
   "metadata": {},
   "outputs": [],
   "source": [
    "import numpy as np \n",
    "import pandas as pd\n",
    "import matplotlib.pylab as plt\n",
    "import cv2\n",
    "import os\n",
    "import tensorflow as tf\n",
    "from glob import glob\n",
    "from tqdm import tqdm\n",
    "import time\n",
    "import tensorflow.keras.backend as K"
   ]
  },
  {
   "cell_type": "code",
   "execution_count": 2,
   "metadata": {},
   "outputs": [
    {
     "data": {
      "text/plain": [
       "['./model\\\\unet_jacc_1.keras',\n",
       " './model\\\\unet_jacc_2.keras',\n",
       " './model\\\\unet_jacc_3.keras',\n",
       " './model\\\\unet_jacc_4.keras',\n",
       " './model\\\\unet_jacc_5.keras',\n",
       " './model\\\\unet_jacc_6.keras']"
      ]
     },
     "execution_count": 2,
     "metadata": {},
     "output_type": "execute_result"
    }
   ],
   "source": [
    "model_paths = [os.path.join('./model', \n",
    "                            f'unet_jacc_{label}.keras') for label in range(1,7)]\n",
    "model_paths"
   ]
  },
  {
   "cell_type": "code",
   "execution_count": 3,
   "metadata": {},
   "outputs": [],
   "source": [
    "classes_and_colors = np.array([[0,0,0] ,[255,0,0], [25,155,187], \n",
    "                      [125,255,0], [125,255,255], [175,15,123],\n",
    "                      [141,255,12] ])"
   ]
  },
  {
   "cell_type": "code",
   "execution_count": 4,
   "metadata": {},
   "outputs": [],
   "source": [
    "height = 1024//4\n",
    "width = 1280//4\n",
    "\n",
    "label = 2\n",
    "img_path = './train/frames/frame000_seq_1.png'\n",
    "label_path = './train/labels/frame000_seq_1.png'\n",
    "train_path = './train'\n",
    "model_path = os.path.join('./model', f'unet_jacc_{label}.keras')"
   ]
  },
  {
   "cell_type": "code",
   "execution_count": 5,
   "metadata": {},
   "outputs": [],
   "source": [
    "def create_dir(path):\n",
    "    if not os.path.exists(path):\n",
    "        os.makedirs(path)"
   ]
  },
  {
   "cell_type": "code",
   "execution_count": 6,
   "metadata": {},
   "outputs": [],
   "source": [
    "def jaccard_distance(y_true, y_pred, smooth=100):\n",
    "    intersection = K.sum(K.abs(y_true * y_pred), axis=-1)\n",
    "    sum_ = K.sum(K.abs(y_true) + K.abs(y_pred), axis=-1)\n",
    "    jac = (intersection + smooth) / (sum_ - intersection + smooth)\n",
    "    return (1 - jac) * smooth"
   ]
  },
  {
   "cell_type": "code",
   "execution_count": 7,
   "metadata": {},
   "outputs": [],
   "source": [
    "def load_model(model_path : str):\n",
    "    return tf.keras.models.load_model(model_path, custom_objects={'jaccard_distance': jaccard_distance})"
   ]
  },
  {
   "cell_type": "code",
   "execution_count": 8,
   "metadata": {},
   "outputs": [],
   "source": [
    "def change_color_of_binary_mask(image , class_id : int):\n",
    "\n",
    "    return np.array([ [ classes_and_colors[class_id] if pixel == 255 \\\n",
    "            else classes_and_colors[0] for pixel in row ] for row in image ])"
   ]
  },
  {
   "cell_type": "code",
   "execution_count": 9,
   "metadata": {},
   "outputs": [
    {
     "data": {
      "text/plain": [
       "<matplotlib.image.AxesImage at 0x162c35a2e90>"
      ]
     },
     "execution_count": 9,
     "metadata": {},
     "output_type": "execute_result"
    },
    {
     "data": {
      "image/png": "[encoded data removed]",
      "text/plain": [
       "<Figure size 640x480 with 1 Axes>"
      ]
     },
     "metadata": {},
     "output_type": "display_data"
    }
   ],
   "source": [
    "image_path = r\"./train/labels_1/frame000_seq_1.png\"\n",
    "image = cv2.imread(image_path,0)\n",
    "img = change_color_of_binary_mask(image,1)\n",
    "plt.imshow(img)"
   ]
  },
  {
   "cell_type": "code",
   "execution_count": 15,
   "metadata": {},
   "outputs": [],
   "source": [
    "def get_class_wise_predicted_mask ( x , class_id ) :\n",
    "    name = x.split('/')[-1]\n",
    "    \n",
    "    x = cv2.imread (x , cv2.IMREAD_COLOR)\n",
    "    x = cv2.resize (x ,(width, height))\n",
    "    x = x / 255.0\n",
    "    x = np.expand_dims ( x , axis = 0 )\n",
    "    \n",
    "    model = load_model(model_files[class_id-1])\n",
    "\n",
    "    p = model.predict(x)[0]\n",
    "    p = np.squeeze(p, axis=-1)\n",
    "    # print ( p.shape )\n",
    "    #return p\n",
    "    cv2.imwrite('.train/predictions/pred1.png',p)\n",
    "    # p = cv2.imread(\"/home/radhika/strykathon/unet/dataset/train/predictions/pred1.png\",0)\n",
    "    return change_color_of_binary_mask( p ,class_id)"
   ]
  },
  {
   "cell_type": "code",
   "execution_count": 13,
   "metadata": {},
   "outputs": [
    {
     "ename": "NameError",
     "evalue": "name 'model_files' is not defined",
     "output_type": "error",
     "traceback": [
      "\u001b[1;31m---------------------------------------------------------------------------\u001b[0m",
      "\u001b[1;31mNameError\u001b[0m                                 Traceback (most recent call last)",
      "Cell \u001b[1;32mIn[13], line 1\u001b[0m\n\u001b[1;32m----> 1\u001b[0m predicted_mask \u001b[38;5;241m=\u001b[39m \u001b[43mget_class_wise_predicted_mask\u001b[49m\u001b[43m(\u001b[49m\u001b[38;5;124;43mr\u001b[39;49m\u001b[38;5;124;43m'\u001b[39;49m\u001b[38;5;124;43m./train/frames/frame000_seq_1.png\u001b[39;49m\u001b[38;5;124;43m'\u001b[39;49m\u001b[43m,\u001b[49m\u001b[38;5;241;43m1\u001b[39;49m\u001b[43m)\u001b[49m\n\u001b[0;32m      2\u001b[0m \u001b[38;5;66;03m# plt.imshow(predicted_mask)\u001b[39;00m\n\u001b[0;32m      3\u001b[0m plt\u001b[38;5;241m.\u001b[39mimshow(predicted_mask)\n",
      "Cell \u001b[1;32mIn[10], line 9\u001b[0m, in \u001b[0;36mget_class_wise_predicted_mask\u001b[1;34m(x, class_id)\u001b[0m\n\u001b[0;32m      6\u001b[0m x \u001b[38;5;241m=\u001b[39m x \u001b[38;5;241m/\u001b[39m \u001b[38;5;241m255.0\u001b[39m\n\u001b[0;32m      7\u001b[0m x \u001b[38;5;241m=\u001b[39m np\u001b[38;5;241m.\u001b[39mexpand_dims ( x , axis \u001b[38;5;241m=\u001b[39m \u001b[38;5;241m0\u001b[39m )\n\u001b[1;32m----> 9\u001b[0m model \u001b[38;5;241m=\u001b[39m load_model(\u001b[43mmodel_files\u001b[49m[class_id\u001b[38;5;241m-\u001b[39m\u001b[38;5;241m1\u001b[39m])\n\u001b[0;32m     11\u001b[0m p \u001b[38;5;241m=\u001b[39m model\u001b[38;5;241m.\u001b[39mpredict(x)[\u001b[38;5;241m0\u001b[39m]\n\u001b[0;32m     12\u001b[0m p \u001b[38;5;241m=\u001b[39m np\u001b[38;5;241m.\u001b[39msqueeze(p, axis\u001b[38;5;241m=\u001b[39m\u001b[38;5;241m-\u001b[39m\u001b[38;5;241m1\u001b[39m)\n",
      "\u001b[1;31mNameError\u001b[0m: name 'model_files' is not defined"
     ]
    }
   ],
   "source": [
    "predicted_mask = get_class_wise_predicted_mask(r'./train/frames/frame000_seq_1.png',1)\n",
    "# plt.imshow(predicted_mask)\n",
    "plt.imshow(predicted_mask)"
   ]
  },
  {
   "cell_type": "code",
   "execution_count": null,
   "metadata": {},
   "outputs": [],
   "source": [
    "import numpy as np\n",
    "from functools import reduce\n",
    "\n",
    "def concatenate_masks( first_mask, second_mask ):\n",
    "    return [[ second_mask [ row_index ][ col_index ] or pixel \\\n",
    "            for col_index , pixel in enumerate ( row ) ]\\\n",
    "            for row_index , row in enumerate ( first_mask ) ]\n",
    "\n",
    "def concatenate_masks_rgb(first_mask, second_mask):\n",
    "    return [[\n",
    "        [second_mask[row_index][col_index][channel] and pixel[channel]\n",
    "         for channel in range(3)]  # Iterate over RGB channels\n",
    "        for col_index, pixel in enumerate(row)]\n",
    "        for row_index, row in enumerate(first_mask)]\n",
    "\n",
    "def concatenate_class_wise_masks ( image_path : str, num_of_classes = 6 ):\n",
    "    image = cv2.imread ( image_path )\n",
    "    h, w, _ = image.shape\n",
    "\n",
    "    blank_canvas = np.zeros(( h , w, 3 ))\n",
    "\n",
    "    predicted_masks = [ get_class_wise_predicted_mask( image_path, class_id ) \\\n",
    "                       for class_id in range ( 1 , num_of_classes + 1 )]  \n",
    "    \n",
    "    predicted_masks.append(blank_canvas)\n",
    "                                \n",
    "    return np.array(reduce( concatenate_masks_rgb , predicted_masks ))\n"
   ]
  },
  {
   "cell_type": "code",
   "execution_count": null,
   "metadata": {},
   "outputs": [],
   "source": [
    "image_path = \"./train/frames/frame000_seq_1.png\"\n",
    "final_img = concatenate_class_wise_masks(image_path, 2)\n",
    "plt.imshow (final_img)"
   ]
  },
  {
   "cell_type": "code",
   "execution_count": null,
   "metadata": {},
   "outputs": [],
   "source": [
    "l = [1,2,3,4,5]\n",
    "def add ( x , y ): return x + y\n",
    "reduce(add,l)\n"
   ]
  },
  {
   "cell_type": "code",
   "execution_count": null,
   "metadata": {},
   "outputs": [],
   "source": [
    "def change_color_of_binary_mask(image_path : str, class_id : int):\n",
    "    image = cv2.imread ( image_path , 0 )\n",
    "    return np.array([ [ classes_and_colors[class_id] if pixel == 255 \\\n",
    "            else classes_and_colors[0] for pixel in row ] for row in image ])"
   ]
  },
  {
   "cell_type": "code",
   "execution_count": null,
   "metadata": {},
   "outputs": [],
   "source": [
    "\n",
    "def change_color_of_binary_mask(image_path: str, class_id : int):\n",
    "    # Read the image as grayscale\n",
    "    mask = cv2.imread(image_path, cv2.IMREAD_GRAYSCALE)\n",
    "    mask_rgb = np.stack([mask] * 3, axis=-1)\n",
    "    \n",
    "    # Change the color of white pixels in the mask to the specified color\n",
    "    mask_rgb[mask == 255] = classes_and_colors[ class_id ]\n",
    "    \n",
    "    return mask_rgb"
   ]
  },
  {
   "cell_type": "code",
   "execution_count": null,
   "metadata": {},
   "outputs": [],
   "source": [
    "import cv2\n",
    "import numpy as np\n",
    "from functools import reduce\n",
    "\n",
    "images = [\"/home/radhika/strykathon/unet/dataset/train/labels1/frame000_seq_7.png\",\n",
    "          \"/home/radhika/strykathon/unet/dataset/train/labels2/frame000_seq_7.png\"]\n",
    "\n",
    "masks = [ cv2.imread(image,0) for index,image in enumerate(images) ]\n",
    "\n",
    "masks = [ change_color_of_binary_mask(image,index+1)\\\n",
    "          for index,image in enumerate(images) ]\n",
    "\n",
    "masks.append ( np.zeros((1024,1280,3)) )\n",
    "final_image = np.array(reduce ( concatenate_masks_rgb , masks ))\n",
    "\n",
    "cv2.imshow(\"dekh kaun\",final_image)\n",
    "cv2.waitKey(5000)\n",
    "cv2.destroyAllWindows()"
   ]
  },
  {
   "cell_type": "code",
   "execution_count": null,
   "metadata": {},
   "outputs": [],
   "source": [
    "l1 = np.array([[0,0,0],[0,0,0]])\n",
    "l2 = np.array([[11,12,13],[14,2,16]])\n",
    "[[l2[row_index][col_index] or pixel for col_index,pixel in enumerate(row) ]\\\n",
    " for row_index,row in enumerate(l1)]"
   ]
  }
 ],
 "metadata": {
  "kernelspec": {
   "display_name": "Python 3 (ipykernel)",
   "language": "python",
   "name": "python3"
  },
  "language_info": {
   "codemirror_mode": {
    "name": "ipython",
    "version": 3
   },
   "file_extension": ".py",
   "mimetype": "text/x-python",
   "name": "python",
   "nbconvert_exporter": "python",
   "pygments_lexer": "ipython3",
   "version": "3.10.10"
  }
 },
 "nbformat": 4,
 "nbformat_minor": 4
}
