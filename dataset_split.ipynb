{
 "cells": [
  {
   "cell_type": "code",
   "execution_count": 1,
   "id": "3da05567-101c-4449-b432-3483edca5727",
   "metadata": {},
   "outputs": [],
   "source": [
    "import cv2\n",
    "import numpy as np\n",
    "import os\n",
    "import shutil\n",
    "import os.path as osp"
   ]
  },
  {
   "cell_type": "code",
   "execution_count": 2,
   "id": "69621764-265e-4a3a-a2fb-7ea8d8ff0f83",
   "metadata": {},
   "outputs": [],
   "source": [
    "classes_and_colors = np.array([[0,0,0] ,[255,0,0], [25,155,187], \n",
    "                      [125,255,0], [125,255,255], [175,15,123],\n",
    "                      [141,255,12] ])"
   ]
  },
  {
   "cell_type": "code",
   "execution_count": null,
   "id": "94943cfa-0098-4ad3-a615-9648cd1148f3",
   "metadata": {},
   "outputs": [],
   "source": [
    "def convert_to_binary( image_path : str, class_id : int ) -> list:\n",
    "    image = cv2.imread(image_path)\n",
    "\n",
    "    binary_img = np.array([ [ [255,255,255] if all(pixel == classes_and_colors[class_id])\n",
    "                    else classes_and_colors[0] \\\n",
    "                    for pixel in row ] for row in image ])\n",
    "    \n",
    "    binary_img = binary_img.astype(np.uint8)\n",
    "    return binary_img"
   ]
  },
  {
   "cell_type": "code",
   "execution_count": null,
   "id": "a2bbacdb-2bc8-420e-8db5-f20de783f0de",
   "metadata": {},
   "outputs": [],
   "source": [
    "def rename(org_folder, new_folder):\n",
    "    os.rename(org_folder,new_folder)\n",
    "\n",
    "def organize(main_folder , new_folder):\n",
    "    new_frames_folder = osp.join ( new_folder, \"frames\" )\n",
    "    new_labels_folder = osp.join ( new_folder, \"labels\" )\n",
    "\n",
    "    if not osp.exists(new_frames_folder): os.mkdir(new_frames_folder)\n",
    "    if not osp.exists(new_labels_folder): os.mkdir(new_labels_folder)\n",
    "\n",
    "    for seq_folder in os.listdir(main_folder):\n",
    "        \n",
    "        seq_folder_path = osp.join(main_folder,seq_folder)\n",
    "        frames_seq_folder_path = osp.join(seq_folder_path, \"frames\")\n",
    "        labels_seq_folder_path = osp.join(seq_folder_path, \"labels\")\n",
    "\n",
    "        for index, frame in enumerate(os.listdir(frames_seq_folder_path)):\n",
    "\n",
    "            print ( index )\n",
    "            org_frame_path = osp.join(frames_seq_folder_path , frame)\n",
    "            new_frame_name = frame.split(\".\")[0] + \"_\" + seq_folder + \".png\"\n",
    "            new_frame_path = osp.join(new_frames_folder,new_frame_name)\n",
    "\n",
    "            shutil.copy(org_frame_path, new_frame_path)\n",
    "        \n",
    "        for index, label_frame in enumerate(os.listdir(labels_seq_folder_path)):\n",
    "\n",
    "            print ( index )\n",
    "            org_label_path = osp.join(labels_seq_folder_path , label_frame)\n",
    "            new_label_name = label_frame.split(\".\")[0] + \"_\" + seq_folder + \".png\"\n",
    "            new_label_path = osp.join(new_labels_folder,new_label_name)\n",
    "\n",
    "            print ( new_label_path )\n",
    "\n",
    "            shutil.copy(org_label_path, new_label_path)\n",
    "\n",
    "organize(r\"dataset/PS3 Train\", r\"dataset/train\")"
   ]
  },
  {
   "cell_type": "code",
   "execution_count": null,
   "id": "98351915-5dc8-4ec8-bd24-dd3c04fe4b17",
   "metadata": {},
   "outputs": [],
   "source": [
    "def convert_to_binary( image_path : str, class_id : int ) -> list:\n",
    "    image = cv2.imread(image_path)\n",
    "\n",
    "    binary_img = np.array([ [ [255,255,255] if all(pixel == classes_and_colors[class_id])\n",
    "                    else classes_and_colors[0] \\\n",
    "                    for pixel in row ] for row in image ])\n",
    "    \n",
    "    binary_img = binary_img.astype(np.uint8)\n",
    "    return binary_img"
   ]
  },
  {
   "cell_type": "code",
   "execution_count": null,
   "id": "d610d518-2cad-4587-a227-be0ddc955603",
   "metadata": {},
   "outputs": [],
   "source": [
    "def create_label_folders(original_folder, new_folder, class_id):\n",
    "    for index , image_file_name in enumerate(os.listdir(original_folder)):\n",
    "        \n",
    "        print ( index )\n",
    "\n",
    "        if not osp.exists(new_folder): os.makedirs(new_folder)\n",
    "\n",
    "        org_image_path = osp.join(original_folder, image_file_name)\n",
    "        bin_image = convert_to_binary(org_image_path, class_id)\n",
    "        new_bin_image_path = osp.join(new_folder, image_file_name)\n",
    "        \n",
    "        print ( new_bin_image_path )\n",
    "\n",
    "        cv2.imwrite(new_bin_image_path , bin_image)"
   ]
  }
 ],
 "metadata": {
  "kernelspec": {
   "display_name": "Python 3 (ipykernel)",
   "language": "python",
   "name": "python3"
  },
  "language_info": {
   "codemirror_mode": {
    "name": "ipython",
    "version": 3
   },
   "file_extension": ".py",
   "mimetype": "text/x-python",
   "name": "python",
   "nbconvert_exporter": "python",
   "pygments_lexer": "ipython3",
   "version": "3.10.10"
  }
 },
 "nbformat": 4,
 "nbformat_minor": 5
}
